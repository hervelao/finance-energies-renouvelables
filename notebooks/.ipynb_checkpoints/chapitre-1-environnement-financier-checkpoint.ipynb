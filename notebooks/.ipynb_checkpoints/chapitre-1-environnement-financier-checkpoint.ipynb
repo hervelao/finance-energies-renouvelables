{
 "cells": [
  {
   "cell_type": "markdown",
   "id": "1de3da00-26cb-4657-ad33-dc845a27df4a",
   "metadata": {},
   "source": [
    "# Chapitre 1 : L'environnement financier des énergies renouvelables\n",
    "\n",
    "*Par Hervé Lao - 27 février 2025*"
   ]
  },
  {
   "cell_type": "markdown",
   "id": "6a8d6115-6397-45d1-99cc-59e2459095b1",
   "metadata": {},
   "source": [
    "## Introduction\n",
    "\n",
    "Le secteur des énergies renouvelables présente des caractéristiques financières distinctes..."
   ]
  }
 ],
 "metadata": {
  "kernelspec": {
   "display_name": "Python 3 (ipykernel)",
   "language": "python",
   "name": "python3"
  },
  "language_info": {
   "codemirror_mode": {
    "name": "ipython",
    "version": 3
   },
   "file_extension": ".py",
   "mimetype": "text/x-python",
   "name": "python",
   "nbconvert_exporter": "python",
   "pygments_lexer": "ipython3",
   "version": "3.13.2"
  }
 },
 "nbformat": 4,
 "nbformat_minor": 5
}
